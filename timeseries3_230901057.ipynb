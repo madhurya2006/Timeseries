{
  "nbformat": 4,
  "nbformat_minor": 0,
  "metadata": {
    "colab": {
      "provenance": []
    },
    "kernelspec": {
      "name": "python3",
      "display_name": "Python 3"
    },
    "language_info": {
      "name": "python"
    }
  },
  "cells": [
    {
      "cell_type": "code",
      "execution_count": 1,
      "metadata": {
        "colab": {
          "base_uri": "https://localhost:8080/"
        },
        "id": "ixLkFkZVaWHO",
        "outputId": "23cf2e05-2a4b-4048-e828-489ae2884015"
      },
      "outputs": [
        {
          "output_type": "stream",
          "name": "stdout",
          "text": [
            "Date Index \n",
            " 2011-01-02   -1.089436\n",
            "2011-01-05    0.457237\n",
            "2011-01-07   -1.563094\n",
            "2011-01-08    0.114096\n",
            "2011-01-10    2.546007\n",
            "2011-01-12    1.976652\n",
            "dtype: float64\n"
          ]
        }
      ],
      "source": [
        "import pandas as pd\n",
        "import numpy as np\n",
        "from datetime import datetime\n",
        "\n",
        "#create a date variable that contains the dates\n",
        "dates = [datetime(2011, 1, 2),\n",
        "datetime(2011, 1, 5),\n",
        "datetime(2011, 1, 7),\n",
        "datetime(2011, 1, 8),\n",
        "datetime(2011, 1, 10),\n",
        "datetime(2011, 1, 12)]\n",
        "\n",
        "#with this date object, create a series\n",
        "ts = pd.Series(np.random.randn(6), index=dates)\n",
        "print(\"Date Index \\n\",ts)"
      ]
    },
    {
      "cell_type": "code",
      "source": [
        "print(\"\\nDate Index alone from the series:\",ts.index)"
      ],
      "metadata": {
        "colab": {
          "base_uri": "https://localhost:8080/"
        },
        "id": "qYjkp-HCauhn",
        "outputId": "7ec769f0-78be-4e2b-aa58-37858bafcb0e"
      },
      "execution_count": 2,
      "outputs": [
        {
          "output_type": "stream",
          "name": "stdout",
          "text": [
            "\n",
            "Date Index alone from the series: DatetimeIndex(['2011-01-02', '2011-01-05', '2011-01-07', '2011-01-08',\n",
            "               '2011-01-10', '2011-01-12'],\n",
            "              dtype='datetime64[ns]', freq=None)\n"
          ]
        }
      ]
    },
    {
      "cell_type": "code",
      "source": [
        "stamp=ts.index[2]\n",
        "print(&quot;\\nSecond index:\\n&quot;, stamp)"
      ],
      "metadata": {
        "id": "WZiLbLJcavLR"
      },
      "execution_count": null,
      "outputs": []
    },
    {
      "cell_type": "code",
      "source": [
        "#play like a ball with long-times series\n",
        "longer_ts=pd.Series(np.random.randn(1000),\n",
        "index=pd.date_range(\"2000-01-01\",periods=1000))\n",
        "print(\"\\nDaterange up to 1000 days:\\n\",longer_ts)"
      ],
      "metadata": {
        "colab": {
          "base_uri": "https://localhost:8080/"
        },
        "id": "b2RjpKfIa9hg",
        "outputId": "fc281a06-fe5f-410c-8624-3b680b9c3dc2"
      },
      "execution_count": 4,
      "outputs": [
        {
          "output_type": "stream",
          "name": "stdout",
          "text": [
            "\n",
            "Daterange up to 1000 days:\n",
            " 2000-01-01    0.229970\n",
            "2000-01-02    0.568249\n",
            "2000-01-03   -0.393072\n",
            "2000-01-04   -0.653048\n",
            "2000-01-05   -1.157816\n",
            "                ...   \n",
            "2002-09-22   -0.239502\n",
            "2002-09-23    1.047318\n",
            "2002-09-24    0.833208\n",
            "2002-09-25   -0.145820\n",
            "2002-09-26    1.332277\n",
            "Freq: D, Length: 1000, dtype: float64\n"
          ]
        }
      ]
    },
    {
      "cell_type": "code",
      "source": [
        "print(\"\\nDate range-2001 year:\\n\", longer_ts[\"2001\"])"
      ],
      "metadata": {
        "colab": {
          "base_uri": "https://localhost:8080/"
        },
        "id": "OYPRJCBPa-VV",
        "outputId": "9e87e707-619c-4828-c2c9-4015f685641c"
      },
      "execution_count": 5,
      "outputs": [
        {
          "output_type": "stream",
          "name": "stdout",
          "text": [
            "\n",
            "Date range-2001 year:\n",
            " 2001-01-01    0.316588\n",
            "2001-01-02    1.504120\n",
            "2001-01-03    1.094263\n",
            "2001-01-04    0.465449\n",
            "2001-01-05   -2.182954\n",
            "                ...   \n",
            "2001-12-27    0.620410\n",
            "2001-12-28   -0.117367\n",
            "2001-12-29    0.528203\n",
            "2001-12-30   -1.347464\n",
            "2001-12-31    0.596647\n",
            "Freq: D, Length: 365, dtype: float64\n"
          ]
        }
      ]
    },
    {
      "cell_type": "code",
      "source": [
        "print(\"\\nDate range-05 month 2001 year:\\n\", longer_ts[\"2001-05\"])"
      ],
      "metadata": {
        "colab": {
          "base_uri": "https://localhost:8080/"
        },
        "id": "RCHPInLGbFy7",
        "outputId": "2a01fb9f-6905-44fd-9015-b0040cb1dd2e"
      },
      "execution_count": 6,
      "outputs": [
        {
          "output_type": "stream",
          "name": "stdout",
          "text": [
            "\n",
            "Date range-05 month 2001 year:\n",
            " 2001-05-01   -0.369180\n",
            "2001-05-02   -0.484055\n",
            "2001-05-03   -0.032564\n",
            "2001-05-04    1.122963\n",
            "2001-05-05   -0.555378\n",
            "2001-05-06   -0.266872\n",
            "2001-05-07   -1.781071\n",
            "2001-05-08   -0.090822\n",
            "2001-05-09   -1.171324\n",
            "2001-05-10   -1.109712\n",
            "2001-05-11   -0.525311\n",
            "2001-05-12   -0.112946\n",
            "2001-05-13   -1.028267\n",
            "2001-05-14    0.198019\n",
            "2001-05-15   -0.760026\n",
            "2001-05-16    0.280191\n",
            "2001-05-17    0.341099\n",
            "2001-05-18    0.292471\n",
            "2001-05-19   -1.231421\n",
            "2001-05-20    0.818922\n",
            "2001-05-21    0.716141\n",
            "2001-05-22   -1.231973\n",
            "2001-05-23   -0.302376\n",
            "2001-05-24   -0.913359\n",
            "2001-05-25   -0.637373\n",
            "2001-05-26    0.500112\n",
            "2001-05-27    2.118931\n",
            "2001-05-28   -0.091196\n",
            "2001-05-29   -0.931799\n",
            "2001-05-30    0.912897\n",
            "2001-05-31   -1.683601\n",
            "Freq: D, dtype: float64\n"
          ]
        }
      ]
    },
    {
      "cell_type": "code",
      "source": [
        "print(\"\\nDate range-first few dates in 2000 year:\\n\",longer_ts[\"2000\"].head())"
      ],
      "metadata": {
        "colab": {
          "base_uri": "https://localhost:8080/"
        },
        "id": "n_yGWsambGRp",
        "outputId": "e7f361bc-28a8-40e0-bf6d-3b779c1bd0e3"
      },
      "execution_count": 7,
      "outputs": [
        {
          "output_type": "stream",
          "name": "stdout",
          "text": [
            "\n",
            "Date range-first few dates in 2000 year:\n",
            " 2000-01-01    0.229970\n",
            "2000-01-02    0.568249\n",
            "2000-01-03   -0.393072\n",
            "2000-01-04   -0.653048\n",
            "2000-01-05   -1.157816\n",
            "Freq: D, dtype: float64\n"
          ]
        }
      ]
    },
    {
      "cell_type": "code",
      "source": [
        "print(\"\\nDate range-first 15 dates in 02 month 2001 year:\\n\",longer_ts[\"2000-02\"].head(15))"
      ],
      "metadata": {
        "colab": {
          "base_uri": "https://localhost:8080/"
        },
        "id": "VurBqkk7bNoQ",
        "outputId": "2cee1eda-4dea-4223-bafe-c0c065f5deb8"
      },
      "execution_count": 8,
      "outputs": [
        {
          "output_type": "stream",
          "name": "stdout",
          "text": [
            "\n",
            "Date range-first 15 dates in 02 month 2001 year:\n",
            " 2000-02-01   -0.650032\n",
            "2000-02-02   -0.407302\n",
            "2000-02-03    1.304775\n",
            "2000-02-04    0.412335\n",
            "2000-02-05    1.247261\n",
            "2000-02-06   -2.027325\n",
            "2000-02-07    0.658794\n",
            "2000-02-08    0.562697\n",
            "2000-02-09   -0.051084\n",
            "2000-02-10   -0.142563\n",
            "2000-02-11   -2.081865\n",
            "2000-02-12   -0.891701\n",
            "2000-02-13   -0.108625\n",
            "2000-02-14   -0.472225\n",
            "2000-02-15    0.975437\n",
            "Freq: D, dtype: float64\n"
          ]
        }
      ]
    },
    {
      "cell_type": "code",
      "source": [
        "print(\"\\nDate range-rom 26-9-2001:\\n\",longer_ts[datetime(2000,9,26):])"
      ],
      "metadata": {
        "colab": {
          "base_uri": "https://localhost:8080/"
        },
        "id": "1W8xGqa4bRbu",
        "outputId": "449d6321-e1b4-497e-a635-8b8d48a115b3"
      },
      "execution_count": 9,
      "outputs": [
        {
          "output_type": "stream",
          "name": "stdout",
          "text": [
            "\n",
            "Date range-rom 26-9-2001:\n",
            " 2000-09-26   -0.564669\n",
            "2000-09-27    1.675459\n",
            "2000-09-28   -1.720460\n",
            "2000-09-29    0.651591\n",
            "2000-09-30    0.699897\n",
            "                ...   \n",
            "2002-09-22   -0.239502\n",
            "2002-09-23    1.047318\n",
            "2002-09-24    0.833208\n",
            "2002-09-25   -0.145820\n",
            "2002-09-26    1.332277\n",
            "Freq: D, Length: 731, dtype: float64\n"
          ]
        }
      ]
    },
    {
      "cell_type": "code",
      "source": [
        "print(\"\\nDate range from 26-9-2001 to 25-9-2002:\\n\",longer_ts[datetime(2001,9,26):datetime(2002,9,25)])"
      ],
      "metadata": {
        "colab": {
          "base_uri": "https://localhost:8080/"
        },
        "id": "9Pm_fqszbUbq",
        "outputId": "4209d562-4c3f-4892-a1aa-ba753f078098"
      },
      "execution_count": 10,
      "outputs": [
        {
          "output_type": "stream",
          "name": "stdout",
          "text": [
            "\n",
            "Date range from 26-9-2001 to 25-9-2002:\n",
            " 2001-09-26    0.002447\n",
            "2001-09-27    1.230765\n",
            "2001-09-28   -1.720611\n",
            "2001-09-29    0.867665\n",
            "2001-09-30   -0.750512\n",
            "                ...   \n",
            "2002-09-21    0.743941\n",
            "2002-09-22   -0.239502\n",
            "2002-09-23    1.047318\n",
            "2002-09-24    0.833208\n",
            "2002-09-25   -0.145820\n",
            "Freq: D, Length: 365, dtype: float64\n"
          ]
        }
      ]
    },
    {
      "cell_type": "code",
      "source": [],
      "metadata": {
        "id": "5A0MJRpGbY5T"
      },
      "execution_count": null,
      "outputs": []
    }
  ]
}